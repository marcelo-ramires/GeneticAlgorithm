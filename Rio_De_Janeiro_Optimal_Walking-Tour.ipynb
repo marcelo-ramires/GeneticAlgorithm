{
 "cells": [
  {
   "cell_type": "markdown",
   "metadata": {},
   "source": [
    "# Calculating the best route among several places.\n",
    "\n",
    "This implementation demonstrates the usage of [Genetic Algorithm](https://en.wikipedia.org/wiki/Genetic_algorithm) to find the best route through a pre-defined set of places in a [map](https://www.google.com/maps/d/edit?mid=zeE3CQjyMLjM.kVO3Qd7EYm6Y).\n",
    "\n",
    "**Configuration**"
   ]
  },
  {
   "cell_type": "code",
   "execution_count": 1,
   "metadata": {
    "collapsed": true
   },
   "outputs": [],
   "source": [
    "# File paths\n",
    "kmlMapFilePath = 'map.kml'\n",
    "waypointsFilePath = 'waypoints.tsv'\n",
    "outputHtmlFilePath = 'visualize_map.html'\n",
    "\n",
    "# Google Maps API\n",
    "googleMapsApiKey = 'your-api-key-here'\n",
    "directionsMode = 'walking' # Other options: 'driving', 'bicycling'\n",
    "mapId = 'zeE3CQjyMLjM.kVO3Qd7EYm6Y'\n",
    "\n",
    "# Genetic Algorithm tuning\n",
    "generationCount = 5000\n",
    "populationSize = 100\n",
    "maxPointMutationsPerOffspring = 3\n",
    "shuffleMutationsPerOffsprint = 7"
   ]
  },
  {
   "cell_type": "markdown",
   "metadata": {},
   "source": [
    "**Loading places from Google Maps MyMaps**"
   ]
  },
  {
   "cell_type": "code",
   "execution_count": 2,
   "metadata": {
    "collapsed": false
   },
   "outputs": [
    {
     "name": "stdout",
     "output_type": "stream",
     "text": [
      "17 places found.\n",
      "['-22.961238400000003,-43.2131231', '-22.9864665,-43.2068467', '-22.9944913,-43.2348222', '-22.91314,-43.1799603', '-22.9457624,-43.197282', '-23.0007675,-43.2727164', '-22.9966937,-43.2459426', '-22.9119442,-43.196649', '-22.913406800000004,-43.2275963', '-22.974258000000003,-43.2011819', '-22.9466961,-43.2177901', '-22.9710823,-43.2170445', '-22.9885307,-43.1925237', '-22.9687066,-43.1794453', '-22.95539,-43.167032', '-22.9663481,-43.2200244', '-22.9871875,-43.2227147']\n"
     ]
    }
   ],
   "source": [
    "from urllib import request\n",
    "\n",
    "mapUrl = 'https://www.google.com/maps/d/u/0/kml?mid='+mapId+'&output=kml&forcekml=1&cid=mp&cv=z7FSTUgJGII.en.'\n",
    "\n",
    "with request.urlopen(mapUrl) as urlfile:\n",
    "    localfile = open(kmlMapFilePath, 'wb')\n",
    "    localfile.write(urlfile.read())\n",
    "    localfile.close()\n",
    "\n",
    "import xml.sax, xml.sax.handler\n",
    "class PlacemarkHandler(xml.sax.handler.ContentHandler):\n",
    "    def __init__(self):\n",
    "        self.inName = False # handle XML parser events\n",
    "        self.inPlacemark = False\n",
    "        self.mapping = {} \n",
    "        self.buffer = \"\"\n",
    "        self.name_tag = \"\"\n",
    "        \n",
    "    def startElement(self, name, attributes):\n",
    "        if name == \"Placemark\": # on start Placemark tag\n",
    "            self.inPlacemark = True\n",
    "            self.buffer = \"\" \n",
    "        if self.inPlacemark:\n",
    "            if name == \"name\": # on start title tag\n",
    "                self.inName = True # save name text to follow\n",
    "            \n",
    "    def characters(self, data):\n",
    "        if self.inPlacemark: # on text within tag\n",
    "            self.buffer += data # save text if in title\n",
    "            \n",
    "    def endElement(self, name):\n",
    "        self.buffer = self.buffer.strip('\\n\\t')\n",
    "        \n",
    "        if name == \"Placemark\":\n",
    "            self.inPlacemark = False\n",
    "            self.name_tag = \"\" #clear current name\n",
    "        \n",
    "        elif name == \"name\" and self.inPlacemark:\n",
    "            self.inName = False # on end title tag            \n",
    "            self.name_tag = self.buffer.strip()\n",
    "            self.mapping[self.name_tag] = {}\n",
    "        elif self.inPlacemark:\n",
    "            if name in self.mapping[self.name_tag]:\n",
    "                self.mapping[self.name_tag][name] += self.buffer\n",
    "            else:\n",
    "                self.mapping[self.name_tag][name] = self.buffer\n",
    "        self.buffer = \"\"\n",
    "        \n",
    "kml = open(kmlMapFilePath, 'r')\n",
    "\n",
    "parser = xml.sax.make_parser()\n",
    "handler = PlacemarkHandler()\n",
    "parser.setContentHandler(handler)\n",
    "parser.parse(kml)\n",
    "kml.close()\n",
    "\n",
    "places = {}\n",
    "placeslist = []\n",
    "\n",
    "for key in handler.mapping:\n",
    "    places[handler.mapping[key]['coordinates']] = key\n",
    "    coordinate = handler.mapping[key]['coordinates'].rstrip(',0.0')\n",
    "    placeslist.append(coordinate.split(',')[1]+','+coordinate.split(',')[0])\n",
    "\n",
    "print('%d places found.' % len(placeslist))\n",
    "print(placeslist)"
   ]
  },
  {
   "cell_type": "markdown",
   "metadata": {},
   "source": [
    "**Getting distances from Google Maps API and saving waypoints file with the results**\n",
    "\n",
    "Obs.: In case the waypoints file already exists, it's kept, and no calls are made, to prevent from running out of free API calls (which basically means a 24-hour ban)"
   ]
  },
  {
   "cell_type": "code",
   "execution_count": 4,
   "metadata": {
    "collapsed": false
   },
   "outputs": [
    {
     "name": "stdout",
     "output_type": "stream",
     "text": [
      "Waypoint file already existed.\n"
     ]
    }
   ],
   "source": [
    "import googlemaps\n",
    "from itertools import combinations\n",
    "import os\n",
    "\n",
    "from IPython.display import clear_output\n",
    "\n",
    "if os.path.exists(waypointsFilePath):\n",
    "    print('Waypoint file already existed.')\n",
    "else:\n",
    "    \n",
    "    gmaps = googlemaps.Client(key=googleMapsApiKey)\n",
    "\n",
    "    waypoint_distances = {}\n",
    "    waypoint_durations = {}\n",
    "\n",
    "    measurements = 1\n",
    "\n",
    "    route = None\n",
    "    \n",
    "    try:\n",
    "        for (waypoint1, waypoint2) in combinations(placeslist, 2):\n",
    "            route = gmaps.distance_matrix(origins=[waypoint1],\n",
    "                                          destinations=[waypoint2],\n",
    "                                          mode=\"walking\", # Change this to \"walking\" for walking directions,\n",
    "                                                          # \"bicycling\" for biking directions, etc.\n",
    "                                          language=\"English\",\n",
    "                                          units=\"metric\")\n",
    "\n",
    "            # \"distance\" is in meters\n",
    "            distance = route[\"rows\"][0][\"elements\"][0][\"distance\"][\"value\"]\n",
    "\n",
    "            # \"duration\" is in seconds\n",
    "            duration = route[\"rows\"][0][\"elements\"][0][\"duration\"][\"value\"]\n",
    "\n",
    "            waypoint_distances[frozenset([waypoint1, waypoint2])] = distance\n",
    "            waypoint_durations[frozenset([waypoint1, waypoint2])] = duration\n",
    "\n",
    "            print(str(measurements) + ' - From '+waypoint1+' to '+waypoint2+' = '+str(distance))\n",
    "            measurements += 1\n",
    "\n",
    "    except Exception as e:\n",
    "        print(\"Error with finding the route between %s and %s.\" % (waypoint1, waypoint2))\n",
    "        print(route)\n",
    "    \n",
    "    with open(waypointsFilePath, 'w') as out_file:\n",
    "        out_file.write(\"\\t\".join([\"waypoint1\",\n",
    "                                  \"waypoint2\",\n",
    "                                  \"distance_m\",\n",
    "                                  \"duration_s\"]))\n",
    "\n",
    "        for (waypoint1, waypoint2) in waypoint_distances.keys():\n",
    "            out_file.write(\"\\n\" +\n",
    "                           \"\\t\".join([waypoint1,\n",
    "                                      waypoint2,\n",
    "                                      str(waypoint_distances[frozenset([waypoint1, waypoint2])]),\n",
    "                                      str(waypoint_durations[frozenset([waypoint1, waypoint2])])]))\n",
    "    \n",
    "    print('Total of ' + len(waypoint_distances) + 'Requests completed')"
   ]
  },
  {
   "cell_type": "markdown",
   "metadata": {},
   "source": [
    "**Reading waypoints file**"
   ]
  },
  {
   "cell_type": "code",
   "execution_count": 5,
   "metadata": {
    "collapsed": false
   },
   "outputs": [
    {
     "name": "stdout",
     "output_type": "stream",
     "text": [
      "Waypoints file read. 136 distances found\n"
     ]
    }
   ],
   "source": [
    "import pandas as pd\n",
    "import numpy as np\n",
    "\n",
    "waypoint_distances = {}\n",
    "waypoint_durations = {}\n",
    "placeslist = set()\n",
    "\n",
    "waypoint_data = pd.read_csv(waypointsFilePath, sep=\"\\t\")\n",
    "\n",
    "for i, row in waypoint_data.iterrows():\n",
    "    waypoint_distances[frozenset([row.waypoint1, row.waypoint2])] = row.distance_m\n",
    "    waypoint_durations[frozenset([row.waypoint1, row.waypoint2])] = row.duration_s\n",
    "    placeslist.update([row.waypoint1, row.waypoint2])\n",
    "    \n",
    "print('Waypoints file read. %d distances found' % len(waypoint_distances))"
   ]
  },
  {
   "cell_type": "markdown",
   "metadata": {},
   "source": [
    "The Genetic Algorithm itself\n",
    "\n",
    "In a few words, it basically works like this:\n",
    "\n",
    "1. Generating random routes, in a quantity of the configured population size\n",
    "2. Getting 10% of the best (shortest) routes (thus reducing the population drastically)\n",
    "3. Performing random mutations (thus generating new routes, increasing back the population)\n",
    "4. Repeating steps 2 and 3 for the configured amount of generations\n",
    "5. Returning the top 1 shortest route of the population in the final generation"
   ]
  },
  {
   "cell_type": "code",
   "execution_count": 6,
   "metadata": {
    "collapsed": false
   },
   "outputs": [
    {
     "name": "stdout",
     "output_type": "stream",
     "text": [
      "Generation 0 best: 115960 | Unique genomes: 100\n",
      "Generation 500 best: 57456 | Unique genomes: 81\n",
      "Generation 1000 best: 57456 | Unique genomes: 85\n",
      "Generation 1500 best: 57456 | Unique genomes: 74\n",
      "Generation 2000 best: 57456 | Unique genomes: 75\n",
      "Generation 2500 best: 57456 | Unique genomes: 76\n",
      "Generation 3000 best: 57456 | Unique genomes: 75\n",
      "Generation 3500 best: 57456 | Unique genomes: 82\n",
      "Generation 4000 best: 57456 | Unique genomes: 79\n",
      "Generation 4500 best: 57456 | Unique genomes: 80\n",
      "Generation 4999 best: 57456 | Unique genomes: 86\n",
      "------\n",
      "Completed. Best route found:\n",
      "('-22.974258000000003,-43.2011819', '-22.9687066,-43.1794453', '-22.95539,-43.167032', '-22.91314,-43.1799603', '-22.9119442,-43.196649', '-22.913406800000004,-43.2275963', '-22.9457624,-43.197282', '-22.9466961,-43.2177901', '-22.961238400000003,-43.2131231', '-22.9663481,-43.2200244', '-22.9710823,-43.2170445', '-23.0007675,-43.2727164', '-22.9966937,-43.2459426', '-22.9944913,-43.2348222', '-22.9871875,-43.2227147', '-22.9864665,-43.2068467', '-22.9885307,-43.1925237')\n"
     ]
    }
   ],
   "source": [
    "import random\n",
    "\n",
    "def compute_fitness(solution):\n",
    "    \"\"\"\n",
    "        This function returns the total distance traveled on the current road trip.\n",
    "        \n",
    "        The genetic algorithm will favor road trips that have shorter\n",
    "        total distances traveled.\n",
    "    \"\"\"\n",
    "    \n",
    "    solution_fitness = 0.0\n",
    "    \n",
    "    for index in range(len(solution)):\n",
    "        waypoint1 = solution[index - 1]\n",
    "        waypoint2 = solution[index]\n",
    "        solution_fitness += waypoint_distances[frozenset([waypoint1, waypoint2])]\n",
    "        \n",
    "    return solution_fitness\n",
    "\n",
    "def generate_random_agent():\n",
    "    \"\"\"\n",
    "        Creates a random road trip from the waypoints.\n",
    "    \"\"\"\n",
    "    \n",
    "    new_random_agent = list(placeslist)\n",
    "    random.shuffle(new_random_agent)\n",
    "    return tuple(new_random_agent)\n",
    "\n",
    "def mutate_agent(agent_genome, max_mutations=3):\n",
    "    \"\"\"\n",
    "        Applies 1 - `max_mutations` point mutations to the given road trip.\n",
    "        \n",
    "        A point mutation swaps the order of two waypoints in the road trip.\n",
    "    \"\"\"\n",
    "    \n",
    "    agent_genome = list(agent_genome)\n",
    "    num_mutations = random.randint(1, max_mutations)\n",
    "    \n",
    "    for mutation in range(num_mutations):\n",
    "        swap_index1 = random.randint(0, len(agent_genome) - 1)\n",
    "        swap_index2 = swap_index1\n",
    "\n",
    "        while swap_index1 == swap_index2:\n",
    "            swap_index2 = random.randint(0, len(agent_genome) - 1)\n",
    "\n",
    "        agent_genome[swap_index1], agent_genome[swap_index2] = agent_genome[swap_index2], agent_genome[swap_index1]\n",
    "            \n",
    "    return tuple(agent_genome)\n",
    "\n",
    "def shuffle_mutation(agent_genome):\n",
    "    \"\"\"\n",
    "        Applies a single shuffle mutation to the given road trip.\n",
    "        \n",
    "        A shuffle mutation takes a random sub-section of the road trip\n",
    "        and moves it to another location in the road trip.\n",
    "    \"\"\"\n",
    "    \n",
    "    agent_genome = list(agent_genome)\n",
    "    \n",
    "    start_index = random.randint(0, len(agent_genome) - 1)\n",
    "    length = random.randint(2, 20)\n",
    "    \n",
    "    genome_subset = agent_genome[start_index:start_index + length]\n",
    "    agent_genome = agent_genome[:start_index] + agent_genome[start_index + length:]\n",
    "    \n",
    "    insert_index = random.randint(0, len(agent_genome) + len(genome_subset) - 1)\n",
    "    agent_genome = agent_genome[:insert_index] + genome_subset + agent_genome[insert_index:]\n",
    "    \n",
    "    return tuple(agent_genome)\n",
    "\n",
    "def generate_random_population(pop_size):\n",
    "    \"\"\"\n",
    "        Generates a list with `pop_size` number of random road trips.\n",
    "    \"\"\"\n",
    "    \n",
    "    random_population = []\n",
    "    for agent in range(pop_size):\n",
    "        random_population.append(generate_random_agent())\n",
    "    return random_population\n",
    "\n",
    "\n",
    "def run_genetic_algorithm(generations=5000, population_size=100):\n",
    "    \"\"\"\n",
    "        The core of the Genetic Algorithm.\n",
    "        \n",
    "        `generations` and `population_size` must be a multiple of 10.\n",
    "    \"\"\"\n",
    "    \n",
    "    population_subset_size = int(population_size / 10.)\n",
    "    generations_10pct = int(generations / 10.)\n",
    "    \n",
    "    # Create a random population of `population_size` number of solutions.\n",
    "    population = generate_random_population(population_size)\n",
    "\n",
    "    # For `generations` number of repetitions...\n",
    "    for generation in range(generations):\n",
    "        # Compute the fitness of the entire current population\n",
    "        population_fitness = {}\n",
    "\n",
    "        for agent_genome in population:\n",
    "            if agent_genome in population_fitness:\n",
    "                continue\n",
    "\n",
    "            population_fitness[agent_genome] = compute_fitness(agent_genome)\n",
    "\n",
    "        # Take the top 10% shortest road trips and produce offspring each from them\n",
    "        new_population = []\n",
    "        for rank, agent_genome in enumerate(sorted(population_fitness,\n",
    "                                                   key=population_fitness.get)[:population_subset_size]):\n",
    "            \n",
    "            if (generation % generations_10pct == 0 or generation == generations - 1) and rank == 0:\n",
    "                print(\"Generation %d best: %d | Unique genomes: %d\" % (generation,\n",
    "                                                                       population_fitness[agent_genome],\n",
    "                                                                       len(population_fitness)))\n",
    "                \n",
    "                best = agent_genome\n",
    "\n",
    "            # Create 1 exact copy of each of the top road trips\n",
    "            new_population.append(agent_genome)\n",
    "\n",
    "            # Create 2 offspring with 1-X (default = 3) point mutations\n",
    "            for offspring in range(2):\n",
    "                new_population.append(mutate_agent(agent_genome, maxPointMutationsPerOffspring))\n",
    "                \n",
    "            # Create 7 offspring with a single shuffle mutation\n",
    "            for offspring in range(shuffleMutationsPerOffsprint):\n",
    "                new_population.append(shuffle_mutation(agent_genome))\n",
    "\n",
    "        # Replace the old population with the new population of offspring \n",
    "        for i in range(len(population))[::-1]:\n",
    "            del population[i]\n",
    "\n",
    "        population = new_population\n",
    "    \n",
    "    print('------\\nCompleted. Best route found:')\n",
    "    print(best)\n",
    "        \n",
    "    return best\n",
    "\n",
    "result = run_genetic_algorithm(generations=generationCount, population_size=populationSize)"
   ]
  },
  {
   "cell_type": "markdown",
   "metadata": {},
   "source": [
    "**Generate the map visualization html file**"
   ]
  },
  {
   "cell_type": "code",
   "execution_count": 7,
   "metadata": {
    "collapsed": false
   },
   "outputs": [
    {
     "name": "stdout",
     "output_type": "stream",
     "text": [
      "Map visualization html file generated successfully\n"
     ]
    }
   ],
   "source": [
    "with open(\"visualize_map.template\", \"r\") as templateFile:\n",
    "    \n",
    "    template = ''.join(templateFile.readlines())\n",
    "    \n",
    "    template = template.replace('<routelist>', '[\\'' + '\\',\\''.join(result)+'\\']')\n",
    "    template = template.replace('<routemode>', directionsMode.upper())\n",
    "    \n",
    "    with open(outputHtmlFilePath, 'w') as htmlFile:\n",
    "    \n",
    "        htmlFile.write(template)\n",
    "        \n",
    "print('Map visualization html file generated successfully')"
   ]
  },
  {
   "cell_type": "markdown",
   "metadata": {},
   "source": [
    "**Opening the html file in a new tab**"
   ]
  },
  {
   "cell_type": "code",
   "execution_count": 8,
   "metadata": {
    "collapsed": false
   },
   "outputs": [
    {
     "name": "stdout",
     "output_type": "stream",
     "text": [
      "Opened successfully\n"
     ]
    }
   ],
   "source": [
    "import webbrowser\n",
    "webbrowser.open_new_tab(outputHtmlFilePath)\n",
    "\n",
    "print('Opened successfully')"
   ]
  },
  {
   "cell_type": "code",
   "execution_count": null,
   "metadata": {
    "collapsed": true
   },
   "outputs": [],
   "source": []
  }
 ],
 "metadata": {
  "kernelspec": {
   "display_name": "Python 3",
   "language": "python",
   "name": "python3"
  },
  "language_info": {
   "codemirror_mode": {
    "name": "ipython",
    "version": 3
   },
   "file_extension": ".py",
   "mimetype": "text/x-python",
   "name": "python",
   "nbconvert_exporter": "python",
   "pygments_lexer": "ipython3",
   "version": "3.4.3"
  }
 },
 "nbformat": 4,
 "nbformat_minor": 0
}
